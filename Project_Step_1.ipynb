{
  "nbformat": 4,
  "nbformat_minor": 0,
  "metadata": {
    "colab": {
      "name": "Copy of Project Step 1.ipynb",
      "provenance": [],
      "collapsed_sections": []
    },
    "kernelspec": {
      "name": "python3",
      "display_name": "Python 3"
    },
    "accelerator": "GPU"
  },
  "cells": [
    {
      "cell_type": "code",
      "metadata": {
        "id": "UWdnwYYh2UHM",
        "colab_type": "code",
        "outputId": "f1aa64ea-c3b8-4984-d42e-19d00d1dfc35",
        "colab": {
          "base_uri": "https://localhost:8080/",
          "height": 919
        }
      },
      "source": [
        "# %%time\n",
        "\n",
        "import tensorflow\n",
        "import tensorflow as tf\n",
        "import matplotlib.pyplot as plt\n",
        "\n",
        "# download mnist training data\n",
        "from tensorflow.examples.tutorials.mnist import input_data\n",
        "mnist = input_data.read_data_sets(\"MNIST_data/\", one_hot=True)\n",
        "\n",
        "\n",
        "\n",
        "a_0 = tf.placeholder(tf.float32, [None, 784])\n",
        "y = tf.placeholder(tf.float32, [None, 10])\n",
        "\n",
        "middle = 30\n",
        "w_1 = tf.Variable(tf.truncated_normal([784, middle]))\n",
        "b_1 = tf.Variable(tf.truncated_normal([1, middle]))\n",
        "w_2 = tf.Variable(tf.truncated_normal([middle, 10]))\n",
        "b_2 = tf.Variable(tf.truncated_normal([1, 10]))\n",
        "\n",
        "final_e = tf.Variable(tf.truncated_normal([10, 10]))\n",
        "\n",
        "\n",
        "def sigma(x):\n",
        "    return tf.div(tf.constant(1.0),\n",
        "                  tf.add(tf.constant(1.0), tf.exp(tf.negative(x))))\n",
        "  \n",
        "  \n",
        "z_1 = tf.add(tf.matmul(a_0, w_1), b_1)\n",
        "a_1 = sigma(z_1)\n",
        "z_2 = tf.add(tf.matmul(a_1, w_2), b_2)\n",
        "a_2 = sigma(z_2)\n",
        "\n",
        "\n",
        "diff = tf.subtract(a_2, y)\n",
        "\n",
        "\n",
        "def sigmaprime(x):\n",
        "    return tf.multiply(sigma(x), tf.subtract(tf.constant(1.0), sigma(x)))\n",
        "  \n",
        "  \n",
        "d_z_2 = tf.multiply(diff, sigmaprime(z_2))\n",
        "d_b_2 = d_z_2\n",
        "d_w_2 = tf.matmul(tf.transpose(a_1), d_z_2)\n",
        "# final_e = d_z_2\n",
        "\n",
        "d_a_1 = tf.matmul(d_z_2, tf.transpose(w_2))\n",
        "d_z_1 = tf.multiply(d_a_1, sigmaprime(z_1))\n",
        "d_b_1 = d_z_1\n",
        "d_w_1 = tf.matmul(tf.transpose(a_0), d_z_1)\n",
        "\n",
        "\n",
        "eta = tf.constant(0.5)\n",
        "step = [\n",
        "    tf.assign(w_1,\n",
        "            tf.subtract(w_1, tf.multiply(eta, d_w_1)))\n",
        "  , tf.assign(b_1,\n",
        "            tf.subtract(b_1, tf.multiply(eta,\n",
        "                               tf.reduce_mean(d_b_1, axis=[0]))))\n",
        "  , tf.assign(w_2,\n",
        "            tf.subtract(w_2, tf.multiply(eta, d_w_2)))\n",
        "  , tf.assign(b_2,\n",
        "            tf.subtract(b_2, tf.multiply(eta,\n",
        "                               tf.reduce_mean(d_b_2, axis=[0]))))\n",
        "  , tf.assign(final_e, diff)\n",
        "]\n",
        "\n",
        "\n",
        "# loss functions \n",
        "acct_mat = tf.equal(tf.argmax(a_2, 1), tf.argmax(y, 1))\n",
        "acct_res = tf.reduce_sum(tf.cast(acct_mat, tf.float32))\n",
        "\n",
        "\n",
        "#initialize some variables\n",
        "batch_size = 10\n",
        "total_test_size = len(mnist.test.images)\n",
        "epoch = range(50)\n",
        "test_accuracy = []\n",
        "train_accuracy = []\n",
        "\n",
        "#start session\n",
        "sess = tf.InteractiveSession()\n",
        "sess.run(tf.global_variables_initializer())\n",
        "\n",
        "### train the model\n",
        "for j in epoch:\n",
        "\n",
        "  for i in range(total_test_size//batch_size):\n",
        "      batch_xs, batch_ys = mnist.train.next_batch(batch_size)\n",
        "      sess.run(step, feed_dict = {a_0: batch_xs,\n",
        "                                  y : batch_ys})\n",
        "  ### test the accuracy \n",
        "  test_acc = sess.run(acct_res, feed_dict =\n",
        "                          {a_0: mnist.test.images[:1000],\n",
        "                           y : mnist.test.labels[:1000]})/1000\n",
        "  train_acc = sess.run(acct_res, feed_dict =\n",
        "                          {a_0: mnist.train.images[:1000],\n",
        "                           y : mnist.train.labels[:1000]})/1000\n",
        "  test_accuracy.append(test_acc)\n",
        "  train_accuracy.append(train_acc)\n",
        "\n",
        "  \n",
        "#close the session  \n",
        "# sess.close()\n",
        "#plot \n",
        "plt.figure()\n",
        "plt.plot(epoch,test_accuracy, label='test')\n",
        "plt.plot(epoch,train_accuracy, label='train')\n",
        "plt.xlabel('epoch')\n",
        "plt.ylabel('classification error')\n",
        "plt.legend()\n",
        "\n",
        "\n",
        "        "
      ],
      "execution_count": 0,
      "outputs": [
        {
          "output_type": "stream",
          "text": [
            "WARNING:tensorflow:From <ipython-input-1-05805c4d9bda>:8: read_data_sets (from tensorflow.contrib.learn.python.learn.datasets.mnist) is deprecated and will be removed in a future version.\n",
            "Instructions for updating:\n",
            "Please use alternatives such as official/mnist/dataset.py from tensorflow/models.\n",
            "WARNING:tensorflow:From /usr/local/lib/python3.6/dist-packages/tensorflow/contrib/learn/python/learn/datasets/mnist.py:260: maybe_download (from tensorflow.contrib.learn.python.learn.datasets.base) is deprecated and will be removed in a future version.\n",
            "Instructions for updating:\n",
            "Please write your own downloading logic.\n",
            "WARNING:tensorflow:From /usr/local/lib/python3.6/dist-packages/tensorflow/contrib/learn/python/learn/datasets/mnist.py:262: extract_images (from tensorflow.contrib.learn.python.learn.datasets.mnist) is deprecated and will be removed in a future version.\n",
            "Instructions for updating:\n",
            "Please use tf.data to implement this functionality.\n",
            "Extracting MNIST_data/train-images-idx3-ubyte.gz\n",
            "WARNING:tensorflow:From /usr/local/lib/python3.6/dist-packages/tensorflow/contrib/learn/python/learn/datasets/mnist.py:267: extract_labels (from tensorflow.contrib.learn.python.learn.datasets.mnist) is deprecated and will be removed in a future version.\n",
            "Instructions for updating:\n",
            "Please use tf.data to implement this functionality.\n",
            "Extracting MNIST_data/train-labels-idx1-ubyte.gz\n",
            "WARNING:tensorflow:From /usr/local/lib/python3.6/dist-packages/tensorflow/contrib/learn/python/learn/datasets/mnist.py:110: dense_to_one_hot (from tensorflow.contrib.learn.python.learn.datasets.mnist) is deprecated and will be removed in a future version.\n",
            "Instructions for updating:\n",
            "Please use tf.one_hot on tensors.\n",
            "Extracting MNIST_data/t10k-images-idx3-ubyte.gz\n",
            "Extracting MNIST_data/t10k-labels-idx1-ubyte.gz\n",
            "WARNING:tensorflow:From /usr/local/lib/python3.6/dist-packages/tensorflow/contrib/learn/python/learn/datasets/mnist.py:290: DataSet.__init__ (from tensorflow.contrib.learn.python.learn.datasets.mnist) is deprecated and will be removed in a future version.\n",
            "Instructions for updating:\n",
            "Please use alternatives such as official/mnist/dataset.py from tensorflow/models.\n",
            "WARNING:tensorflow:From /usr/local/lib/python3.6/dist-packages/tensorflow/python/framework/op_def_library.py:263: colocate_with (from tensorflow.python.framework.ops) is deprecated and will be removed in a future version.\n",
            "Instructions for updating:\n",
            "Colocations handled automatically by placer.\n",
            "WARNING:tensorflow:From <ipython-input-1-05805c4d9bda>:27: div (from tensorflow.python.ops.math_ops) is deprecated and will be removed in a future version.\n",
            "Instructions for updating:\n",
            "Deprecated in favor of operator or tf.math.divide.\n"
          ],
          "name": "stdout"
        },
        {
          "output_type": "execute_result",
          "data": {
            "text/plain": [
              "<matplotlib.legend.Legend at 0x7f9648111208>"
            ]
          },
          "metadata": {
            "tags": []
          },
          "execution_count": 1
        },
        {
          "output_type": "display_data",
          "data": {
            "image/png": "[encoded data removed]",
            "text/plain": [
              "<Figure size 576x396 with 1 Axes>"
            ]
          },
          "metadata": {
            "tags": []
          }
        }
      ]
    },
    {
      "cell_type": "code",
      "metadata": {
        "id": "mpmOwHAMCbt3",
        "colab_type": "code",
        "colab": {}
      },
      "source": [
        "# from google.colab import files\n",
        "# # fucntion for to save weights to files\n",
        "# weight_matrix = sess.run(w_2)\n",
        "# for i in range(len(weight_matrix)):\n",
        "#   filename = \"file%s\" % i\n",
        "#   file = open(\"%s.txt\" % filename, \"w\")\n",
        "#   weight = weight_matrix[i]\n",
        "#   for j in range(len(weight)):\n",
        "#     file.write(str(weight[j])+'\\n')\n",
        "#   file.close()\n",
        "#   download = files.download(\"%s.txt\" % filename)\n",
        "\n"
      ],
      "execution_count": 0,
      "outputs": []
    },
    {
      "cell_type": "code",
      "metadata": {
        "id": "V5RppUC99fvy",
        "colab_type": "code",
        "colab": {}
      },
      "source": [
        "from tempfile import TemporaryFile\n",
        "from google.colab import files\n",
        "import numpy as np\n",
        "file = '/weights'\n",
        "x = np.array(sess.run(w_1))\n",
        "y = np.array(sess.run(w_2))\n",
        "np.savez_compressed(file,w1=x,w2=y)\n",
        "download = files.download(file+'.npz')"
      ],
      "execution_count": 0,
      "outputs": []
    },
    {
      "cell_type": "code",
      "metadata": {
        "id": "xtbWjvJ1TFva",
        "colab_type": "code",
        "colab": {}
      },
      "source": [
        "max(test_accuracy)"
      ],
      "execution_count": 0,
      "outputs": []
    },
    {
      "cell_type": "code",
      "metadata": {
        "id": "D3-hCN-WfRwd",
        "colab_type": "code",
        "outputId": "e6299a87-e05e-4854-99c8-f938723e1a47",
        "colab": {
          "base_uri": "https://localhost:8080/",
          "height": 36
        }
      },
      "source": [
        "sess.run(final_e).shape"
      ],
      "execution_count": 0,
      "outputs": [
        {
          "output_type": "execute_result",
          "data": {
            "text/plain": [
              "(10, 10)"
            ]
          },
          "metadata": {
            "tags": []
          },
          "execution_count": 3
        }
      ]
    },
    {
      "cell_type": "code",
      "metadata": {
        "id": "tNil6YjIznyp",
        "colab_type": "code",
        "colab": {}
      },
      "source": [
        "from tempfile import TemporaryFile\n",
        "from google.colab import files\n",
        "import numpy as np\n",
        "file = '/error-2'\n",
        "e2 = np.array(sess.run(final_e))\n",
        "np.savez_compressed(file,e=e2)\n",
        "download = files.download(file+'.npz')\n"
      ],
      "execution_count": 0,
      "outputs": []
    },
    {
      "cell_type": "code",
      "metadata": {
        "id": "nJL-jhilnYZt",
        "colab_type": "code",
        "colab": {}
      },
      "source": [
        ""
      ],
      "execution_count": 0,
      "outputs": []
    }
  ]
}